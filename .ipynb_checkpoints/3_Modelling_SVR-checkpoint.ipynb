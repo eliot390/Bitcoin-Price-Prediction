{
 "cells": [
  {
   "cell_type": "code",
   "execution_count": 1,
   "metadata": {},
   "outputs": [],
   "source": [
    "# Import Libraries\n",
    "\n",
    "import matplotlib.pyplot as plt\n",
    "import numpy as np\n",
    "import pandas as pd\n",
    "from sklearn.model_selection import train_test_split\n",
    "import sklearn.metrics as metrics\n",
    "from sklearn.metrics import mean_squared_error, mean_absolute_error, r2_score\n",
    "import warnings\n",
    "warnings.filterwarnings(\"ignore\")\n",
    "\n",
    "# SVM model library\n",
    "from sklearn.svm import SVR"
   ]
  },
  {
   "cell_type": "markdown",
   "metadata": {},
   "source": [
    "### Import data"
   ]
  },
  {
   "cell_type": "code",
   "execution_count": 2,
   "metadata": {},
   "outputs": [],
   "source": [
    "final_df = pd.read_csv('final_df_next_7th_day_15.csv').reset_index(drop=True)"
   ]
  },
  {
   "cell_type": "code",
   "execution_count": 3,
   "metadata": {},
   "outputs": [],
   "source": [
    "def calculate_metrics(y, ypred):\n",
    "    MAE = metrics.mean_absolute_error(y, ypred)\n",
    "    MSE = metrics.mean_squared_error(y, ypred,squared=True)\n",
    "    RMSE = metrics.mean_squared_error(y, ypred,squared=False)\n",
    "    R2 = metrics.r2_score(y, ypred)\n",
    "    return MAE,MSE,RMSE,R2\n",
    "\n",
    "def plot_result(df,title=None):\n",
    "    plt.figure(figsize=(25, 6))\n",
    "    plt.plot( df.iloc[:, 1], label='Actual')\n",
    "    plt.plot( df.iloc[:, 2], label='Predicted')\n",
    "    plt.xlabel('Date')\n",
    "    plt.ylabel('Price')\n",
    "    plt.title('Actual vs. Predicted Values')\n",
    "    plt.legend()\n",
    "    plt.grid()\n",
    "    plt.title(title)\n",
    "    plt.show()"
   ]
  },
  {
   "cell_type": "markdown",
   "metadata": {},
   "source": [
    "### SVR Model"
   ]
  },
  {
   "cell_type": "code",
   "execution_count": 24,
   "metadata": {},
   "outputs": [],
   "source": [
    "\n",
    "X = final_df.drop(['next_7th_day_closing_price', 'Date'], axis=1)\n",
    "y = final_df['next_7th_day_closing_price']\n",
    "\n",
    "# Split the data into training and testing sets\n",
    "X_train, X_test, y_train, y_test = train_test_split(X, y, test_size=0.2, random_state=42)\n",
    "\n",
    "# Create an instance of the SVR model\n",
    "svr = SVR(C=30000, gamma='scale', kernel='rbf')\n",
    "\n",
    "# Train the SVR model on the training set\n",
    "svr.fit(X_train, y_train)\n",
    "\n",
    "# Make predictions on the testing set\n",
    "ytrain_pred = svr.predict(X_train)\n",
    "ytest_pred = svr.predict(X_test)"
   ]
  },
  {
   "cell_type": "code",
   "execution_count": 25,
   "metadata": {},
   "outputs": [
    {
     "name": "stdout",
     "output_type": "stream",
     "text": [
      "Mean Absolute Error (MAE) for Training: 658.07003\n",
      "Mean Squared Error (MSE) for Training: 2604995.52469\n",
      "Root Mean Squared Error (RMSE) for Training: 1613.99985\n",
      "R-squared score (R2) for Training: 0.98743\n",
      "\n",
      "********************************************\n",
      "\n",
      "Mean Absolute Error (MAE) for Testing: 702.17087\n",
      "Mean Squared Error (MSE) for Testing: 3496195.61584\n",
      "Root Mean Squared Error (RMSE) for Testing: 1869.81165\n",
      "R-squared score (R2) for Testing: 0.98464\n"
     ]
    }
   ],
   "source": [
    "MAE_train, MSE_train, RMSE_train, R2_train = calculate_metrics(y_train, ytrain_pred)\n",
    "MAE_test, MSE_test, RMSE_test, R2_test = calculate_metrics(y_test, ytest_pred)\n",
    "\n",
    "print(\"Mean Absolute Error (MAE) for Training: %.5f\" % MAE_train)\n",
    "print(\"Mean Squared Error (MSE) for Training: %.5f\" % MSE_train)\n",
    "print(\"Root Mean Squared Error (RMSE) for Training: %.5f\" % RMSE_train)\n",
    "print(\"R-squared score (R2) for Training: %.5f\" % R2_train)\n",
    "print(\"\\n********************************************\\n\")\n",
    "print(\"Mean Absolute Error (MAE) for Testing: %.5f\" % MAE_test)\n",
    "print(\"Mean Squared Error (MSE) for Testing: %.5f\" % MSE_test)\n",
    "print(\"Root Mean Squared Error (RMSE) for Testing: %.5f\" % RMSE_test)\n",
    "print(\"R-squared score (R2) for Testing: %.5f\" % R2_test)"
   ]
  },
  {
   "cell_type": "code",
   "execution_count": 34,
   "metadata": {},
   "outputs": [],
   "source": [
    "# Determine the size of the train and test set\n",
    "test_size = 0.2\n",
    "n_test = int(np.round(len(final_df) * test_size))\n",
    "train_split = final_df[:len(final_df)-n_test]\n",
    "test_split = final_df[len(final_df)-n_test:]\n",
    "\n",
    "x_train = train_split.drop(['next_7th_day_closing_price','Date'],axis=1).values\n",
    "x_test = test_split.drop(['next_7th_day_closing_price','Date'],axis=1).values\n",
    "\n",
    "y_train = train_split['next_7th_day_closing_price'].reset_index(drop=True).values\n",
    "y_test = test_split['next_7th_day_closing_price'].reset_index(drop=True).values\n",
    "\n",
    "svr = SVR(C=10000,gamma='scale',kernel='linear')\n",
    "svr.fit(x_train, y_train)\n",
    "\n",
    "ytrain_pred = svr.predict(x_train)\n",
    "ytest_pred = svr.predict(x_test)\n",
    "\n"
   ]
  },
  {
   "cell_type": "code",
   "execution_count": 35,
   "metadata": {},
   "outputs": [
    {
     "name": "stdout",
     "output_type": "stream",
     "text": [
      "Mean Absolute Error (MAE) for Training: 231.97810\n",
      "Mean Squared Error (MSE) for Training: 348322.55078\n",
      "Root Mean Squared Error (RMSE) for Training: 590.18857\n",
      "R-squared score (R2) for Training: 0.97633\n",
      "\n",
      "********************************************\n",
      "\n",
      "Mean Absolute Error (MAE) for Testing: 2654.84084\n",
      "Mean Squared Error (MSE) for Testing: 14422634.94530\n",
      "Root Mean Squared Error (RMSE) for Testing: 3797.71444\n",
      "R-squared score (R2) for Testing: 0.92969\n"
     ]
    }
   ],
   "source": [
    "MAE_train, MSE_train, RMSE_train, R2_train = calculate_metrics(y_train,ytrain_pred)\n",
    "MAE_test, MSE_test, RMSE_test, R2_test = calculate_metrics(y_test,ytest_pred)\n",
    "\n",
    "print(\"Mean Absolute Error (MAE) for Training: %.5f\" % MAE_train)\n",
    "print(\"Mean Squared Error (MSE) for Training: %.5f\" % MSE_train)\n",
    "print(\"Root Mean Squared Error (RMSE) for Training: %.5f\" % RMSE_train)\n",
    "print(\"R-squared score (R2) for Training: %.5f\" % R2_train)\n",
    "print(\"\\n********************************************\\n\")\n",
    "print(\"Mean Absolute Error (MAE) for Testing: %.5f\" % MAE_test)\n",
    "print(\"Mean Squared Error (MSE) for Testing: %.5f\" % MSE_test)\n",
    "print(\"Root Mean Squared Error (RMSE) for Testing: %.5f\" % RMSE_test)\n",
    "print(\"R-squared score (R2) for Testing: %.5f\" % R2_test)"
   ]
  },
  {
   "cell_type": "code",
   "execution_count": null,
   "metadata": {},
   "outputs": [],
   "source": [
    "plt.scatter(y_train, ytrain_pred)\n",
    "plt.xlabel('Actual Values')\n",
    "plt.ylabel('Predicted Values')\n",
    "plt.title('SVR Train Results')\n",
    "plt.show()"
   ]
  },
  {
   "cell_type": "code",
   "execution_count": null,
   "metadata": {},
   "outputs": [],
   "source": [
    "\n",
    "plt.scatter(y_test, ytest_pred)\n",
    "plt.xlabel('Actual Values')\n",
    "plt.ylabel('Predicted Values')\n",
    "plt.title('SVR Test Results')\n",
    "plt.show()"
   ]
  },
  {
   "cell_type": "code",
   "execution_count": null,
   "metadata": {
    "scrolled": false
   },
   "outputs": [],
   "source": [
    "errors = y_train - ytrain_pred\n",
    "plt.hist(errors, bins=20)\n",
    "plt.xlabel('Error')\n",
    "plt.ylabel('Frequency')\n",
    "plt.title('Training Error Distribution')\n",
    "plt.show()"
   ]
  },
  {
   "cell_type": "code",
   "execution_count": null,
   "metadata": {},
   "outputs": [],
   "source": [
    "\n",
    "errors = y_test - ytest_pred\n",
    "plt.hist(errors, bins=20)\n",
    "plt.xlabel('Error')\n",
    "plt.ylabel('Frequency')\n",
    "plt.title('Testing Error Distribution')\n",
    "plt.show()"
   ]
  },
  {
   "cell_type": "code",
   "execution_count": null,
   "metadata": {},
   "outputs": [],
   "source": [
    "SVR_result_test_df = pd.DataFrame()\n",
    "SVR_result_test_df['Date'] = test_split['Date']\n",
    "SVR_result_test_df['y_test'] = test_split['next_7th_day_closing_price']\n",
    "SVR_result_test_df['y_test_pred'] = ytest_pred.flatten()\n",
    "\n",
    "\n",
    "SVR_result_train_df = pd.DataFrame()\n",
    "SVR_result_train_df['Date'] = train_split['Date']\n",
    "SVR_result_train_df['y_train'] = train_split['next_7th_day_closing_price']\n",
    "SVR_result_train_df['y_train_pred'] = ytrain_pred.flatten()"
   ]
  },
  {
   "cell_type": "code",
   "execution_count": null,
   "metadata": {},
   "outputs": [],
   "source": [
    "plot_result(SVR_result_train_df,'Training Results')"
   ]
  },
  {
   "cell_type": "code",
   "execution_count": null,
   "metadata": {},
   "outputs": [],
   "source": [
    "plot_result(SVR_result_train_df,'Training Results')"
   ]
  }
 ],
 "metadata": {
  "kernelspec": {
   "display_name": "Python 3 (ipykernel)",
   "language": "python",
   "name": "python3"
  },
  "language_info": {
   "codemirror_mode": {
    "name": "ipython",
    "version": 3
   },
   "file_extension": ".py",
   "mimetype": "text/x-python",
   "name": "python",
   "nbconvert_exporter": "python",
   "pygments_lexer": "ipython3",
   "version": "3.11.0"
  }
 },
 "nbformat": 4,
 "nbformat_minor": 2
}
